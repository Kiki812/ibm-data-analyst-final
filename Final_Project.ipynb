{
 "cells": [
  {
   "cell_type": "markdown",
   "id": "3f34b8ee",
   "metadata": {},
   "source": [
    "# Peer‑graded Assignment: Analyzing Historical Stock/Revenue Data and Building a Dashboard\n",
    "\n",
    "This notebook follows the required steps:\n",
    "\n",
    "- **Q1**: Extract Tesla stock data using `yfinance`, reset index, and show `head()`  \n",
    "- **Q2**: Web‑scrape Tesla revenue data and show `tail()`  \n",
    "- **Q3**: Extract GameStop stock data using `yfinance`, reset index, and show `head()`  \n",
    "- **Q4**: Web‑scrape GameStop revenue data and show `tail()`  \n",
    "- **Q5**: Plot Tesla stock vs revenue using `make_graph()`  \n",
    "- **Q6**: Plot GameStop stock vs revenue using `make_graph()`  \n",
    "\n",
    "> Tip: If running on a fresh environment, install dependencies in the next cell."
   ]
  },
  {
   "cell_type": "code",
   "execution_count": 1,
   "id": "51b837bc",
   "metadata": {},
   "outputs": [
    {
     "ename": "ModuleNotFoundError",
     "evalue": "No module named 'yfinance'",
     "output_type": "error",
     "traceback": [
      "\u001b[0;31m---------------------------------------------------------------------------\u001b[0m",
      "\u001b[0;31mModuleNotFoundError\u001b[0m                       Traceback (most recent call last)",
      "Cell \u001b[0;32mIn[1], line 5\u001b[0m\n\u001b[1;32m      1\u001b[0m \u001b[38;5;66;03m# If needed, uncomment the next line to install packages\u001b[39;00m\n\u001b[1;32m      2\u001b[0m \u001b[38;5;66;03m# !pip -q install yfinance pandas requests beautifulsoup4 lxml matplotlib\u001b[39;00m\n\u001b[1;32m      4\u001b[0m \u001b[38;5;28;01mimport\u001b[39;00m\u001b[38;5;250m \u001b[39m\u001b[38;5;21;01mpandas\u001b[39;00m\u001b[38;5;250m \u001b[39m\u001b[38;5;28;01mas\u001b[39;00m\u001b[38;5;250m \u001b[39m\u001b[38;5;21;01mpd\u001b[39;00m\n\u001b[0;32m----> 5\u001b[0m \u001b[38;5;28;01mimport\u001b[39;00m\u001b[38;5;250m \u001b[39m\u001b[38;5;21;01myfinance\u001b[39;00m\u001b[38;5;250m \u001b[39m\u001b[38;5;28;01mas\u001b[39;00m\u001b[38;5;250m \u001b[39m\u001b[38;5;21;01myf\u001b[39;00m\n\u001b[1;32m      6\u001b[0m \u001b[38;5;28;01mimport\u001b[39;00m\u001b[38;5;250m \u001b[39m\u001b[38;5;21;01mrequests\u001b[39;00m\n\u001b[1;32m      7\u001b[0m \u001b[38;5;28;01mfrom\u001b[39;00m\u001b[38;5;250m \u001b[39m\u001b[38;5;21;01mbs4\u001b[39;00m\u001b[38;5;250m \u001b[39m\u001b[38;5;28;01mimport\u001b[39;00m BeautifulSoup\n",
      "\u001b[0;31mModuleNotFoundError\u001b[0m: No module named 'yfinance'"
     ]
    }
   ],
   "source": [
    "# If needed, uncomment the next line to install packages\n",
    "# !pip -q install yfinance pandas requests beautifulsoup4 lxml matplotlib\n",
    "\n",
    "import pandas as pd\n",
    "import yfinance as yf\n",
    "import requests\n",
    "from bs4 import BeautifulSoup\n",
    "import matplotlib.pyplot as plt\n",
    "\n",
    "pd.set_option('display.max_rows', 10)\n",
    "pd.set_option('display.width', 120)\n"
   ]
  },
  {
   "cell_type": "code",
   "execution_count": 2,
   "id": "a16e0b98",
   "metadata": {},
   "outputs": [],
   "source": [
    "def get_revenue_from_macrotrends(url: str, table_keyword: str):\n",
    "    \"\"\"\n",
    "    Fetch a revenue table from Macrotrends and return a clean DataFrame with columns:\n",
    "      ['Date', 'Revenue']\n",
    "    The 'Revenue' column is cleaned to numeric (float) by removing $ and commas.\n",
    "    \"\"\"\n",
    "    headers = {\n",
    "        'User-Agent': 'Mozilla/5.0 (X11; Linux x86_64) AppleWebKit/537.36 (KHTML, like Gecko) Chrome/124.0 Safari/537.36'\n",
    "    }\n",
    "    html = requests.get(url, headers=headers, timeout=30).text\n",
    "    soup = BeautifulSoup(html, 'html.parser')\n",
    "    candidate_tables = soup.find_all('table')\n",
    "    target = None\n",
    "    for tbl in candidate_tables:\n",
    "        if table_keyword.lower() in tbl.get_text(' ').lower():\n",
    "            target = tbl\n",
    "            break\n",
    "    if target is None:\n",
    "        target = candidate_tables[0] if candidate_tables else None\n",
    "    if target is None:\n",
    "        raise ValueError('No tables found on the page.')\n",
    "    df = pd.read_html(str(target))[0]\n",
    "    df = df.rename(columns={df.columns[0]: 'Date', df.columns[1]: 'Revenue'})\n",
    "    df = df[df['Date'].notna() & df['Revenue'].notna()].copy()\n",
    "    df['Revenue'] = (df['Revenue'].astype(str)\n",
    "                     .str.replace('$', '', regex=False)\n",
    "                     .str.replace(',', '', regex=False))\n",
    "    df['Revenue'] = pd.to_numeric(df['Revenue'], errors='coerce')\n",
    "    df = df.dropna(subset=['Revenue'])\n",
    "    df['Date'] = df['Date'].astype(str)\n",
    "    df = df.reset_index(drop=True)\n",
    "    return df\n"
   ]
  },
  {
   "cell_type": "markdown",
   "id": "204dbe44",
   "metadata": {},
   "source": [
    "## Question 1 — Use `yfinance` to Extract Tesla Stock Data"
   ]
  },
  {
   "cell_type": "code",
   "execution_count": 3,
   "id": "e29f0997",
   "metadata": {},
   "outputs": [
    {
     "ename": "NameError",
     "evalue": "name 'yf' is not defined",
     "output_type": "error",
     "traceback": [
      "\u001b[0;31m---------------------------------------------------------------------------\u001b[0m",
      "\u001b[0;31mNameError\u001b[0m                                 Traceback (most recent call last)",
      "Cell \u001b[0;32mIn[3], line 1\u001b[0m\n\u001b[0;32m----> 1\u001b[0m tesla \u001b[38;5;241m=\u001b[39m yf\u001b[38;5;241m.\u001b[39mTicker(\u001b[38;5;124m'\u001b[39m\u001b[38;5;124mTSLA\u001b[39m\u001b[38;5;124m'\u001b[39m)\n\u001b[1;32m      2\u001b[0m tesla_data \u001b[38;5;241m=\u001b[39m tesla\u001b[38;5;241m.\u001b[39mhistory(period\u001b[38;5;241m=\u001b[39m\u001b[38;5;124m'\u001b[39m\u001b[38;5;124mmax\u001b[39m\u001b[38;5;124m'\u001b[39m)\n\u001b[1;32m      3\u001b[0m tesla_data\u001b[38;5;241m.\u001b[39mreset_index(inplace\u001b[38;5;241m=\u001b[39m\u001b[38;5;28;01mTrue\u001b[39;00m)\n",
      "\u001b[0;31mNameError\u001b[0m: name 'yf' is not defined"
     ]
    }
   ],
   "source": [
    "tesla = yf.Ticker('TSLA')\n",
    "tesla_data = tesla.history(period='max')\n",
    "tesla_data.reset_index(inplace=True)\n",
    "tesla_data.head()\n"
   ]
  },
  {
   "cell_type": "markdown",
   "id": "8a5589c4",
   "metadata": {},
   "source": [
    "## Question 2 — Use Webscraping to Extract Tesla Revenue Data"
   ]
  },
  {
   "cell_type": "code",
   "execution_count": 4,
   "id": "29c42fb0",
   "metadata": {},
   "outputs": [
    {
     "ename": "NameError",
     "evalue": "name 'requests' is not defined",
     "output_type": "error",
     "traceback": [
      "\u001b[0;31m---------------------------------------------------------------------------\u001b[0m",
      "\u001b[0;31mNameError\u001b[0m                                 Traceback (most recent call last)",
      "Cell \u001b[0;32mIn[4], line 2\u001b[0m\n\u001b[1;32m      1\u001b[0m tsla_url \u001b[38;5;241m=\u001b[39m \u001b[38;5;124m'\u001b[39m\u001b[38;5;124mhttps://www.macrotrends.net/stocks/charts/TSLA/tesla/revenue\u001b[39m\u001b[38;5;124m'\u001b[39m\n\u001b[0;32m----> 2\u001b[0m tesla_revenue \u001b[38;5;241m=\u001b[39m get_revenue_from_macrotrends(tsla_url, table_keyword\u001b[38;5;241m=\u001b[39m\u001b[38;5;124m'\u001b[39m\u001b[38;5;124mTesla Quarterly Revenue\u001b[39m\u001b[38;5;124m'\u001b[39m)\n\u001b[1;32m      3\u001b[0m tesla_revenue\u001b[38;5;241m.\u001b[39mtail()\n",
      "Cell \u001b[0;32mIn[2], line 10\u001b[0m, in \u001b[0;36mget_revenue_from_macrotrends\u001b[0;34m(url, table_keyword)\u001b[0m\n\u001b[1;32m      2\u001b[0m \u001b[38;5;250m\u001b[39m\u001b[38;5;124;03m\"\"\"\u001b[39;00m\n\u001b[1;32m      3\u001b[0m \u001b[38;5;124;03mFetch a revenue table from Macrotrends and return a clean DataFrame with columns:\u001b[39;00m\n\u001b[1;32m      4\u001b[0m \u001b[38;5;124;03m  ['Date', 'Revenue']\u001b[39;00m\n\u001b[1;32m      5\u001b[0m \u001b[38;5;124;03mThe 'Revenue' column is cleaned to numeric (float) by removing $ and commas.\u001b[39;00m\n\u001b[1;32m      6\u001b[0m \u001b[38;5;124;03m\"\"\"\u001b[39;00m\n\u001b[1;32m      7\u001b[0m headers \u001b[38;5;241m=\u001b[39m {\n\u001b[1;32m      8\u001b[0m     \u001b[38;5;124m'\u001b[39m\u001b[38;5;124mUser-Agent\u001b[39m\u001b[38;5;124m'\u001b[39m: \u001b[38;5;124m'\u001b[39m\u001b[38;5;124mMozilla/5.0 (X11; Linux x86_64) AppleWebKit/537.36 (KHTML, like Gecko) Chrome/124.0 Safari/537.36\u001b[39m\u001b[38;5;124m'\u001b[39m\n\u001b[1;32m      9\u001b[0m }\n\u001b[0;32m---> 10\u001b[0m html \u001b[38;5;241m=\u001b[39m requests\u001b[38;5;241m.\u001b[39mget(url, headers\u001b[38;5;241m=\u001b[39mheaders, timeout\u001b[38;5;241m=\u001b[39m\u001b[38;5;241m30\u001b[39m)\u001b[38;5;241m.\u001b[39mtext\n\u001b[1;32m     11\u001b[0m soup \u001b[38;5;241m=\u001b[39m BeautifulSoup(html, \u001b[38;5;124m'\u001b[39m\u001b[38;5;124mhtml.parser\u001b[39m\u001b[38;5;124m'\u001b[39m)\n\u001b[1;32m     12\u001b[0m candidate_tables \u001b[38;5;241m=\u001b[39m soup\u001b[38;5;241m.\u001b[39mfind_all(\u001b[38;5;124m'\u001b[39m\u001b[38;5;124mtable\u001b[39m\u001b[38;5;124m'\u001b[39m)\n",
      "\u001b[0;31mNameError\u001b[0m: name 'requests' is not defined"
     ]
    }
   ],
   "source": [
    "tsla_url = 'https://www.macrotrends.net/stocks/charts/TSLA/tesla/revenue'\n",
    "tesla_revenue = get_revenue_from_macrotrends(tsla_url, table_keyword='Tesla Quarterly Revenue')\n",
    "tesla_revenue.tail()\n"
   ]
  },
  {
   "cell_type": "markdown",
   "id": "13915cbf",
   "metadata": {},
   "source": [
    "## Question 3 — Use `yfinance` to Extract GameStop Stock Data"
   ]
  },
  {
   "cell_type": "code",
   "execution_count": 5,
   "id": "cbf32ec9",
   "metadata": {},
   "outputs": [
    {
     "ename": "NameError",
     "evalue": "name 'yf' is not defined",
     "output_type": "error",
     "traceback": [
      "\u001b[0;31m---------------------------------------------------------------------------\u001b[0m",
      "\u001b[0;31mNameError\u001b[0m                                 Traceback (most recent call last)",
      "Cell \u001b[0;32mIn[5], line 1\u001b[0m\n\u001b[0;32m----> 1\u001b[0m gme \u001b[38;5;241m=\u001b[39m yf\u001b[38;5;241m.\u001b[39mTicker(\u001b[38;5;124m'\u001b[39m\u001b[38;5;124mGME\u001b[39m\u001b[38;5;124m'\u001b[39m)\n\u001b[1;32m      2\u001b[0m gme_data \u001b[38;5;241m=\u001b[39m gme\u001b[38;5;241m.\u001b[39mhistory(period\u001b[38;5;241m=\u001b[39m\u001b[38;5;124m'\u001b[39m\u001b[38;5;124mmax\u001b[39m\u001b[38;5;124m'\u001b[39m)\n\u001b[1;32m      3\u001b[0m gme_data\u001b[38;5;241m.\u001b[39mreset_index(inplace\u001b[38;5;241m=\u001b[39m\u001b[38;5;28;01mTrue\u001b[39;00m)\n",
      "\u001b[0;31mNameError\u001b[0m: name 'yf' is not defined"
     ]
    }
   ],
   "source": [
    "gme = yf.Ticker('GME')\n",
    "gme_data = gme.history(period='max')\n",
    "gme_data.reset_index(inplace=True)\n",
    "gme_data.head()\n"
   ]
  },
  {
   "cell_type": "markdown",
   "id": "131d3164",
   "metadata": {},
   "source": [
    "## Question 4 — Use Webscraping to Extract GameStop Revenue Data"
   ]
  },
  {
   "cell_type": "code",
   "execution_count": 6,
   "id": "0bfdcca0",
   "metadata": {},
   "outputs": [
    {
     "ename": "NameError",
     "evalue": "name 'requests' is not defined",
     "output_type": "error",
     "traceback": [
      "\u001b[0;31m---------------------------------------------------------------------------\u001b[0m",
      "\u001b[0;31mNameError\u001b[0m                                 Traceback (most recent call last)",
      "Cell \u001b[0;32mIn[6], line 2\u001b[0m\n\u001b[1;32m      1\u001b[0m gme_url \u001b[38;5;241m=\u001b[39m \u001b[38;5;124m'\u001b[39m\u001b[38;5;124mhttps://www.macrotrends.net/stocks/charts/GME/gamestop/revenue\u001b[39m\u001b[38;5;124m'\u001b[39m\n\u001b[0;32m----> 2\u001b[0m gme_revenue \u001b[38;5;241m=\u001b[39m get_revenue_from_macrotrends(gme_url, table_keyword\u001b[38;5;241m=\u001b[39m\u001b[38;5;124m'\u001b[39m\u001b[38;5;124mGameStop Quarterly Revenue\u001b[39m\u001b[38;5;124m'\u001b[39m)\n\u001b[1;32m      3\u001b[0m gme_revenue\u001b[38;5;241m.\u001b[39mtail()\n",
      "Cell \u001b[0;32mIn[2], line 10\u001b[0m, in \u001b[0;36mget_revenue_from_macrotrends\u001b[0;34m(url, table_keyword)\u001b[0m\n\u001b[1;32m      2\u001b[0m \u001b[38;5;250m\u001b[39m\u001b[38;5;124;03m\"\"\"\u001b[39;00m\n\u001b[1;32m      3\u001b[0m \u001b[38;5;124;03mFetch a revenue table from Macrotrends and return a clean DataFrame with columns:\u001b[39;00m\n\u001b[1;32m      4\u001b[0m \u001b[38;5;124;03m  ['Date', 'Revenue']\u001b[39;00m\n\u001b[1;32m      5\u001b[0m \u001b[38;5;124;03mThe 'Revenue' column is cleaned to numeric (float) by removing $ and commas.\u001b[39;00m\n\u001b[1;32m      6\u001b[0m \u001b[38;5;124;03m\"\"\"\u001b[39;00m\n\u001b[1;32m      7\u001b[0m headers \u001b[38;5;241m=\u001b[39m {\n\u001b[1;32m      8\u001b[0m     \u001b[38;5;124m'\u001b[39m\u001b[38;5;124mUser-Agent\u001b[39m\u001b[38;5;124m'\u001b[39m: \u001b[38;5;124m'\u001b[39m\u001b[38;5;124mMozilla/5.0 (X11; Linux x86_64) AppleWebKit/537.36 (KHTML, like Gecko) Chrome/124.0 Safari/537.36\u001b[39m\u001b[38;5;124m'\u001b[39m\n\u001b[1;32m      9\u001b[0m }\n\u001b[0;32m---> 10\u001b[0m html \u001b[38;5;241m=\u001b[39m requests\u001b[38;5;241m.\u001b[39mget(url, headers\u001b[38;5;241m=\u001b[39mheaders, timeout\u001b[38;5;241m=\u001b[39m\u001b[38;5;241m30\u001b[39m)\u001b[38;5;241m.\u001b[39mtext\n\u001b[1;32m     11\u001b[0m soup \u001b[38;5;241m=\u001b[39m BeautifulSoup(html, \u001b[38;5;124m'\u001b[39m\u001b[38;5;124mhtml.parser\u001b[39m\u001b[38;5;124m'\u001b[39m)\n\u001b[1;32m     12\u001b[0m candidate_tables \u001b[38;5;241m=\u001b[39m soup\u001b[38;5;241m.\u001b[39mfind_all(\u001b[38;5;124m'\u001b[39m\u001b[38;5;124mtable\u001b[39m\u001b[38;5;124m'\u001b[39m)\n",
      "\u001b[0;31mNameError\u001b[0m: name 'requests' is not defined"
     ]
    }
   ],
   "source": [
    "gme_url = 'https://www.macrotrends.net/stocks/charts/GME/gamestop/revenue'\n",
    "gme_revenue = get_revenue_from_macrotrends(gme_url, table_keyword='GameStop Quarterly Revenue')\n",
    "gme_revenue.tail()\n"
   ]
  },
  {
   "cell_type": "markdown",
   "id": "23eac385",
   "metadata": {},
   "source": [
    "## Questions 5 & 6 — Plot Stock vs Revenue with `make_graph()`"
   ]
  },
  {
   "cell_type": "code",
   "execution_count": 7,
   "id": "49e2fc48",
   "metadata": {},
   "outputs": [
    {
     "ename": "NameError",
     "evalue": "name 'tesla_data' is not defined",
     "output_type": "error",
     "traceback": [
      "\u001b[0;31m---------------------------------------------------------------------------\u001b[0m",
      "\u001b[0;31mNameError\u001b[0m                                 Traceback (most recent call last)",
      "Cell \u001b[0;32mIn[7], line 36\u001b[0m\n\u001b[1;32m     33\u001b[0m     \u001b[38;5;28;01mreturn\u001b[39;00m fig\n\u001b[1;32m     35\u001b[0m \u001b[38;5;66;03m# Plot Tesla\u001b[39;00m\n\u001b[0;32m---> 36\u001b[0m fig_tsla \u001b[38;5;241m=\u001b[39m make_graph(tesla_data[[\u001b[38;5;124m'\u001b[39m\u001b[38;5;124mDate\u001b[39m\u001b[38;5;124m'\u001b[39m,\u001b[38;5;124m'\u001b[39m\u001b[38;5;124mClose\u001b[39m\u001b[38;5;124m'\u001b[39m]], tesla_revenue[[\u001b[38;5;124m'\u001b[39m\u001b[38;5;124mDate\u001b[39m\u001b[38;5;124m'\u001b[39m,\u001b[38;5;124m'\u001b[39m\u001b[38;5;124mRevenue\u001b[39m\u001b[38;5;124m'\u001b[39m]], \u001b[38;5;124m'\u001b[39m\u001b[38;5;124mTSLA\u001b[39m\u001b[38;5;124m'\u001b[39m)\n\u001b[1;32m     37\u001b[0m plt\u001b[38;5;241m.\u001b[39mshow()\n\u001b[1;32m     39\u001b[0m \u001b[38;5;66;03m# Plot GME\u001b[39;00m\n",
      "\u001b[0;31mNameError\u001b[0m: name 'tesla_data' is not defined"
     ]
    }
   ],
   "source": [
    "from datetime import datetime\n",
    "\n",
    "def make_graph(stock_data, revenue_data, stock_ticker):\n",
    "    \"\"\"\n",
    "    Draw a two-panel chart: top = stock closing price; bottom = quarterly revenue.\n",
    "    Expects:\n",
    "      stock_data: DataFrame with 'Date' (datetime64) and 'Close' (float)\n",
    "      revenue_data: DataFrame with 'Date' (str like 'YYYY-Q#' or 'YYYY-MM-DD') and 'Revenue' (float)\n",
    "    \"\"\"\n",
    "    rev = revenue_data.copy()\n",
    "    if rev['Date'].dtype == object and ('Q' in str(rev['Date'].iloc[0])):\n",
    "        mapping = {'Q1':'-03-31','Q2':'-06-30','Q3':'-09-30','Q4':'-12-31'}\n",
    "        rev['Date'] = (rev['Date'].str.replace('Q1', mapping['Q1'])\n",
    "                                  .str.replace('Q2', mapping['Q2'])\n",
    "                                  .str.replace('Q3', mapping['Q3'])\n",
    "                                  .str.replace('Q4', mapping['Q4']))\n",
    "    rev['Date'] = pd.to_datetime(rev['Date'], errors='coerce')\n",
    "    rev = rev.dropna(subset=['Date', 'Revenue'])\n",
    "\n",
    "    st = stock_data.copy()\n",
    "    st['Date'] = pd.to_datetime(st['Date'], errors='coerce')\n",
    "    st = st.dropna(subset=['Date', 'Close'])\n",
    "\n",
    "    fig, axes = plt.subplots(2, 1, figsize=(12, 7), dpi=120)\n",
    "    axes[0].plot(st['Date'], st['Close'])\n",
    "    axes[0].set_title(f\"{stock_ticker} Stock Price\")\n",
    "    axes[0].set_ylabel('Close')\n",
    "    axes[1].bar(rev['Date'], rev['Revenue'])\n",
    "    axes[1].set_title(f\"{stock_ticker} Quarterly Revenue (USD)\")\n",
    "    axes[1].set_ylabel('Revenue')\n",
    "    axes[1].set_xlabel('Date')\n",
    "    fig.tight_layout()\n",
    "    return fig\n",
    "\n",
    "# Plot Tesla\n",
    "fig_tsla = make_graph(tesla_data[['Date','Close']], tesla_revenue[['Date','Revenue']], 'TSLA')\n",
    "plt.show()\n",
    "\n",
    "# Plot GME\n",
    "fig_gme = make_graph(gme_data[['Date','Close']], gme_revenue[['Date','Revenue']], 'GME')\n",
    "plt.show()\n"
   ]
  },
  {
   "cell_type": "markdown",
   "id": "7795e070",
   "metadata": {},
   "source": [
    "### (Optional) Save cleaned datasets to CSV"
   ]
  },
  {
   "cell_type": "code",
   "execution_count": 8,
   "id": "6f2a2083",
   "metadata": {},
   "outputs": [
    {
     "ename": "NameError",
     "evalue": "name 'tesla_data' is not defined",
     "output_type": "error",
     "traceback": [
      "\u001b[0;31m---------------------------------------------------------------------------\u001b[0m",
      "\u001b[0;31mNameError\u001b[0m                                 Traceback (most recent call last)",
      "Cell \u001b[0;32mIn[8], line 1\u001b[0m\n\u001b[0;32m----> 1\u001b[0m tesla_data\u001b[38;5;241m.\u001b[39mto_csv(\u001b[38;5;124m'\u001b[39m\u001b[38;5;124mtesla_stock_data.csv\u001b[39m\u001b[38;5;124m'\u001b[39m, index\u001b[38;5;241m=\u001b[39m\u001b[38;5;28;01mFalse\u001b[39;00m)\n\u001b[1;32m      2\u001b[0m tesla_revenue\u001b[38;5;241m.\u001b[39mto_csv(\u001b[38;5;124m'\u001b[39m\u001b[38;5;124mtesla_revenue_data.csv\u001b[39m\u001b[38;5;124m'\u001b[39m, index\u001b[38;5;241m=\u001b[39m\u001b[38;5;28;01mFalse\u001b[39;00m)\n\u001b[1;32m      3\u001b[0m gme_data\u001b[38;5;241m.\u001b[39mto_csv(\u001b[38;5;124m'\u001b[39m\u001b[38;5;124mgme_stock_data.csv\u001b[39m\u001b[38;5;124m'\u001b[39m, index\u001b[38;5;241m=\u001b[39m\u001b[38;5;28;01mFalse\u001b[39;00m)\n",
      "\u001b[0;31mNameError\u001b[0m: name 'tesla_data' is not defined"
     ]
    }
   ],
   "source": [
    "tesla_data.to_csv('tesla_stock_data.csv', index=False)\n",
    "tesla_revenue.to_csv('tesla_revenue_data.csv', index=False)\n",
    "gme_data.to_csv('gme_stock_data.csv', index=False)\n",
    "gme_revenue.to_csv('gme_revenue_data.csv', index=False)\n",
    "print('Saved CSV files to working directory.')\n"
   ]
  },
  {
   "cell_type": "code",
   "execution_count": null,
   "id": "864e4fc0-dff1-44c2-ba90-ab86bd7fe9f5",
   "metadata": {},
   "outputs": [],
   "source": []
  }
 ],
 "metadata": {
  "kernelspec": {
   "display_name": "Python [conda env:base] *",
   "language": "python",
   "name": "conda-base-py"
  },
  "language_info": {
   "codemirror_mode": {
    "name": "ipython",
    "version": 3
   },
   "file_extension": ".py",
   "mimetype": "text/x-python",
   "name": "python",
   "nbconvert_exporter": "python",
   "pygments_lexer": "ipython3",
   "version": "3.13.5"
  }
 },
 "nbformat": 4,
 "nbformat_minor": 5
}
